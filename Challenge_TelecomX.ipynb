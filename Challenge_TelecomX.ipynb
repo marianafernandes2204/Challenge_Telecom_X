{
  "cells": [
    {
      "cell_type": "markdown",
      "metadata": {
        "id": "aHJqIZuF6XlY"
      },
      "source": [
        "# Telecom X - Análise de Evasão de Clientes\n",
        "\n",
        "\n",
        "---\n",
        "\n"
      ]
    },
    {
      "cell_type": "markdown",
      "metadata": {
        "id": "AmuQmYOb6W09"
      },
      "source": [
        "A empresa ***Telecom X*** enfrenta um alto índice de\n",
        "cancelamentos e precisa entender os fatores que levam à perda de clientes.\n",
        "\n",
        "O desafio será coletar, tratar e analisar os dados, utilizando Python e suas principais bibliotecas para extrair insights valiosos. A partir da análise, os demais colegas da  equipe de Data Science poderão avançar para modelos preditivos e desenvolver estratégias para reduzir a evasão.\n",
        "\n",
        "***Nesta Challenge será trabalhado:***\n",
        "\n"
      ]
    },
    {
      "cell_type": "markdown",
      "metadata": {
        "id": "ARVa2iFHFiaq"
      },
      "source": [
        "\n",
        "\n",
        "*   ✅ Importar e manipular dados de uma API de forma eficiente.\n",
        "*   ✅ Aplicar os conceitos de ETL (Extração, Transformação e Carga) na preparação dos dados.\n",
        "*   ✅ Criar visualizações de dados estratégicas para identificar padrões e tendências.\n",
        "*   ✅ Realizar uma Análise Exploratória de Dados (EDA) e gerar um relatório com insights relevantes.\n",
        "\n",
        "***Vamos lá !!!*** 🚀"
      ]
    },
    {
      "cell_type": "markdown",
      "metadata": {
        "id": "4foVEKhrlqcH"
      },
      "source": [
        "#📌 Extracão\n",
        "\n",
        "\n",
        "---\n",
        "\n"
      ]
    },
    {
      "cell_type": "markdown",
      "metadata": {
        "id": "wPg7kFsa9_6v"
      },
      "source": [
        "Para iniciar análise, importei os dados da API da Telecom X. Esses dados estão disponíveis no formato `JSON` e contêm informações essenciais sobre os clientes, incluindo dados demográficos, tipo de serviço contratado e status de evasão."
      ]
    },
    {
      "cell_type": "code",
      "execution_count": null,
      "metadata": {
        "id": "z-zadYdjKH3I"
      },
      "outputs": [
        {
          "ename": "",
          "evalue": "",
          "output_type": "error",
          "traceback": [
            "\u001b[1;31mA execução de células com 'Python 3.11.9' requer o pacote ipykernel.\n",
            "\u001b[1;31m<a href='command:jupyter.createPythonEnvAndSelectController'>Crie um ambiente Python</a> com os pacotes necessários.\n",
            "\u001b[1;31mOu instale 'ipykernel' usando o comando: 'c:/Users/marianafernandes/AppData/Local/Microsoft/WindowsApps/python3.11.exe -m pip install ipykernel -U --user --force-reinstall'"
          ]
        }
      ],
      "source": [
        "import pandas as pd\n",
        "import requests\n",
        "import json\n",
        "import matplotlib.pyplot as plt\n",
        "import seaborn as sns\n",
        "import numpy as np"
      ]
    },
    {
      "cell_type": "code",
      "execution_count": null,
      "metadata": {
        "colab": {
          "base_uri": "https://localhost:8080/",
          "height": 380
        },
        "id": "NYCaTCmZAuq7",
        "outputId": "69e0b8e1-aee1-4952-fabc-4803f63d3392"
      },
      "outputs": [],
      "source": [
        "url = 'https://raw.githubusercontent.com/ingridcristh/challenge2-data-science/main/TelecomX_Data.json'\n",
        "dados = pd.read_json(url)  # Atribui á uma variável os dados importados\n",
        "dados.head()  # Visualizar os dados"
      ]
    },
    {
      "cell_type": "markdown",
      "metadata": {
        "id": "1lSZP8zmmGZu"
      },
      "source": [
        "#🔧 Transformação\n",
        "\n",
        "\n",
        "---\n",
        "\n"
      ]
    },
    {
      "cell_type": "markdown",
      "metadata": {
        "id": "Gjq_LZrKBbYX"
      },
      "source": [
        "Após a extração dos dados, é fundamental entender a estrutura do dataset e o significado de suas colunas. "
      ]
    },
    {
      "cell_type": "markdown",
      "metadata": {
        "id": "p7-YF9qOfGLj"
      },
      "source": [
        "## Normalizando dados"
      ]
    },
    {
      "cell_type": "code",
      "execution_count": null,
      "metadata": {
        "colab": {
          "base_uri": "https://localhost:8080/",
          "height": 308
        },
        "id": "L3g4cOFFAV5V",
        "outputId": "adca0e4f-4e9a-451d-cdb6-0a661f0520cd"
      },
      "outputs": [],
      "source": [
        "dados = requests.get(url)\n",
        "resultado = json.loads(dados.text)\n",
        "\n",
        "dados = pd.json_normalize(resultado, sep='/')\n",
        "dados.head()"
      ]
    },
    {
      "cell_type": "markdown",
      "metadata": {
        "id": "5CVLV6l_dmwP"
      },
      "source": [
        "## 🎯 Traduzindo as colunas para melhor análise de dados."
      ]
    },
    {
      "cell_type": "code",
      "execution_count": null,
      "metadata": {
        "colab": {
          "base_uri": "https://localhost:8080/",
          "height": 342
        },
        "id": "KegE2acYd4N-",
        "outputId": "f4c673b6-efb2-4493-da14-7e5d3e5bd495"
      },
      "outputs": [],
      "source": [
        "dados.rename(columns={\n",
        "    'customerID': 'ID_Cliente',\n",
        "    'Churn': 'Cancelamento',\n",
        "    'customer/gender': 'Gênero',\n",
        "    'customer/SeniorCitizen': 'Idoso',\n",
        "    'customer/Partner': 'Possui_Companheiro',\n",
        "    'customer/Dependents': 'Possui_Dependentes',\n",
        "    'customer/tenure': 'Meses_de_Contrato',\n",
        "    'phone/PhoneService': 'Telefone_Ativo',\n",
        "    'phone/MultipleLines': 'Multiplas_Linhas',\n",
        "    'internet/InternetService': 'Tipo_Internet',\n",
        "    'internet/OnlineSecurity': 'Seguranca_Online',\n",
        "    'internet/OnlineBackup': 'Backup_Online',\n",
        "    'internet/DeviceProtection': 'Protecao_Dispositivo',\n",
        "    'internet/TechSupport': 'Suporte_Tecnico',\n",
        "    'internet/StreamingTV': 'Streaming_TV',\n",
        "    'internet/StreamingMovies': 'Streaming_Filmes',\n",
        "    'account/Contract': 'Tipo_Contrato',\n",
        "    'account/PaperlessBilling': 'Fatura_Digital',\n",
        "    'account/PaymentMethod': 'Forma_Pagamento',\n",
        "    'account/Charges/Monthly': 'Valor_Mensal',\n",
        "    'account/Charges/Total': 'Valor_Total',\n",
        "    'tempo_estimado_meses': 'Meses_Estimados',\n",
        "    'Conta_Diarias': 'Conta_Diaria'\n",
        "}, inplace=True)\n",
        "\n",
        "dados.head()"
      ]
    },
    {
      "cell_type": "markdown",
      "metadata": {
        "id": "H2IRq5FdfViJ"
      },
      "source": [
        "## 🔎 Identifica quantidade de Linhas e Colunas do DataFrame."
      ]
    },
    {
      "cell_type": "code",
      "execution_count": null,
      "metadata": {
        "colab": {
          "base_uri": "https://localhost:8080/"
        },
        "id": "0SfP7mQI8nMm",
        "outputId": "5d49c21b-42aa-4797-afab-e2a1c461e9d4"
      },
      "outputs": [],
      "source": [
        "linhas, colunas = dados.shape\n",
        "print(f\"O DataFrame tem {linhas} linhas e {colunas} colunas.\")"
      ]
    },
    {
      "cell_type": "markdown",
      "metadata": {
        "id": "aNx6UeO55h0a"
      },
      "source": [
        "## 🔎 Verificando Inconsistências nos Dados"
      ]
    },
    {
      "cell_type": "code",
      "execution_count": null,
      "metadata": {
        "colab": {
          "base_uri": "https://localhost:8080/"
        },
        "id": "glmDW6dtCBGZ",
        "outputId": "3ae1954f-4681-4e79-c79b-dc9eebd9596e"
      },
      "outputs": [],
      "source": [
        "# Mostra o resumo das colunas e tipos.\n",
        "dados.info()"
      ]
    },
    {
      "cell_type": "markdown",
      "metadata": {
        "id": "PcVRyjsPFOIu"
      },
      "source": [
        "🔍  Padronizando valores e a formatação;\n",
        "\n",
        "🔍  Identificando cada coluna com o tipo correto dos seus valores."
      ]
    },
    {
      "cell_type": "code",
      "execution_count": null,
      "metadata": {
        "colab": {
          "base_uri": "https://localhost:8080/"
        },
        "id": "PAs2Wt0mfU8N",
        "outputId": "79354cc7-3956-40b8-c61a-64925bfddbe0"
      },
      "outputs": [],
      "source": [
        "colunas_para_formatar = []\n",
        "\n",
        "# Padroniza strings: tira espaços e coloca só a primeira letra maiúscula\n",
        "for col in colunas_para_formatar:\n",
        "    if dados[col].dtype == 'object':\n",
        "        dados[col] = dados[col].str.strip().str.capitalize()\n",
        "\n",
        "# Converte a coluna numérica\n",
        "dados['Valor_Total'] = pd.to_numeric(dados['Valor_Total'], errors='coerce')\n",
        "\n",
        "dados.info()\n"
      ]
    },
    {
      "cell_type": "markdown",
      "metadata": {
        "id": "4JEQNT-tG1WC"
      },
      "source": [
        "🔍  VERIFICANDO  E TRATANDO OS VALORES NULOS"
      ]
    },
    {
      "cell_type": "code",
      "execution_count": null,
      "metadata": {
        "colab": {
          "base_uri": "https://localhost:8080/"
        },
        "id": "YisaqAXM4ohI",
        "outputId": "954ce5fc-6e24-4d13-9bee-5ebb8c0a0895"
      },
      "outputs": [],
      "source": [
        "# Verificar valores nulos:\n",
        "print(\"VALORES NULOS:\\n--------------\\n\")\n",
        "print(dados.isnull().sum())"
      ]
    },
    {
      "cell_type": "code",
      "execution_count": null,
      "metadata": {
        "id": "YImV9TO6wIfU"
      },
      "outputs": [],
      "source": [
        "# Excluindo todos os valores nulos:\n",
        "dados = dados.dropna()"
      ]
    },
    {
      "cell_type": "markdown",
      "metadata": {
        "id": "CqfguWpLHC7G"
      },
      "source": [
        "🔍  VERIFICANDO E TRATANDO STRINGS VAZIAS"
      ]
    },
    {
      "cell_type": "code",
      "execution_count": null,
      "metadata": {
        "colab": {
          "base_uri": "https://localhost:8080/"
        },
        "id": "j-OiofnOICZt",
        "outputId": "586f8cd3-1709-4142-88bc-11ddbe07539e"
      },
      "outputs": [],
      "source": [
        "# Verifica se há strings vazias em cada coluna\n",
        "print(\"STRINGS VAZIAS:\\n---------------\\n\")\n",
        "print((dados == '').sum())"
      ]
    },
    {
      "cell_type": "code",
      "execution_count": null,
      "metadata": {
        "id": "VwsUXKvADiwR"
      },
      "outputs": [],
      "source": [
        "# Substituindo apenas trings vazia da coluna 'Churn' por 'Não informado':\n",
        "dados['Cancelamento'] = dados['Cancelamento'].replace('', 'Não informado')"
      ]
    },
    {
      "cell_type": "code",
      "execution_count": null,
      "metadata": {
        "colab": {
          "base_uri": "https://localhost:8080/"
        },
        "id": "ex6HnMx3Dq_n",
        "outputId": "a60c9ba8-f67d-4d73-c787-1ca44a5dc8c3"
      },
      "outputs": [],
      "source": [
        "# Listando os valores únicos da coluna \"Churn\", onde substituimos valor nulo por 'Não informado':\n",
        "dados['Cancelamento'].unique()"
      ]
    },
    {
      "cell_type": "markdown",
      "metadata": {
        "id": "Gjk4Isbg6QSX"
      },
      "source": [
        "## 🎯 Coluna de Contas Diárias"
      ]
    },
    {
      "cell_type": "markdown",
      "metadata": {
        "id": "xmiTMcIz6QDj"
      },
      "source": [
        "Agora, com os dados limpos, é hora de criar a coluna \"Contas_Diarias\". Utilizei o faturamento mensal para calcular o valor diário, proporcionando uma visão mais detalhada do comportamento dos clientes ao longo do tempo.\n",
        "\n",
        "📌 Essa coluna ajudará a aprofundar sua análise e fornecer informações valiosas para as próximas etapas."
      ]
    },
    {
      "cell_type": "code",
      "execution_count": null,
      "metadata": {
        "colab": {
          "base_uri": "https://localhost:8080/",
          "height": 342
        },
        "id": "2exoRJUN5Oe9",
        "outputId": "b49b91b5-8d5f-4c1f-ec70-ae3597a0f2d2"
      },
      "outputs": [],
      "source": [
        "# Criar uma coluna com tempo estimado em meses\n",
        "dados['tempo_estimado_meses'] = dados['Valor_Total'] / dados['Valor_Mensal']\n",
        "\n",
        "# Criar a coluna Conta_Diarias\n",
        "dados['Conta_Diarias'] = (dados['Valor_Total'] / dados['tempo_estimado_meses']) / 30\n",
        "\n",
        "dados.head()"
      ]
    },
    {
      "cell_type": "markdown",
      "metadata": {
        "id": "6XnTC2NTmMRL"
      },
      "source": [
        "#📊 Carga e Análise\n",
        "\n",
        "Análise descritiva dos dados, calculando métricas como média, mediana, desvio padrão, e outras medidas que ajudem a entender melhor a distribuição e comportamento dos clientes."
      ]
    },
    {
      "cell_type": "code",
      "execution_count": null,
      "metadata": {
        "colab": {
          "base_uri": "https://localhost:8080/",
          "height": 195
        },
        "id": "JSmRYOVlCD7G",
        "outputId": "22f83e5c-2f5a-4afe-f570-5a77d39e6f17"
      },
      "outputs": [],
      "source": [
        "dados[['Meses_de_Contrato', 'Valor_Mensal', 'Valor_Total', 'Conta_Diarias']].describe().T"
      ]
    },
    {
      "cell_type": "markdown",
      "metadata": {
        "id": "a-R6cVkTYdh8"
      },
      "source": [
        "## 🔎 EVASÃO DE CLIENTES na TOTALIDADE:"
      ]
    },
    {
      "cell_type": "code",
      "execution_count": null,
      "metadata": {
        "colab": {
          "base_uri": "https://localhost:8080/",
          "height": 599
        },
        "id": "1jgUnLqTmPdd",
        "outputId": "db4e45c6-fe15-4155-c916-c3ac68a1ac42"
      },
      "outputs": [],
      "source": [
        "# Substituir os valores de churn para rótulos desejados\n",
        "dados_churn = dados['Cancelamento'].replace({\n",
        "    'Yes': 'Sim',\n",
        "    'No': 'Não',\n",
        "    '': 'Não informado'\n",
        "})\n",
        "\n",
        "# Contagem dos valores\n",
        "contagem = dados_churn.value_counts()\n",
        "labels = contagem.index\n",
        "sizes = contagem.values\n",
        "\n",
        "# Cores de acordo com os labels atuais\n",
        "cor_mapa = {\n",
        "    'Não': '#b2df8a',           # verde pastel → Ativo\n",
        "    'Sim': '#fcbfdc',           # rosa pastel → Inativo\n",
        "    'Não informado': '#a1c9f4'  # azul pastel\n",
        "}\n",
        "colors = [cor_mapa[label] for label in labels]\n",
        "\n",
        "# Explode apenas para 'Sim' (Inativo)\n",
        "explode = [0.03 if label == 'Sim' else 0 for label in labels]\n",
        "\n",
        "# Gráfico\n",
        "fig, ax = plt.subplots(figsize=(7, 7))\n",
        "wedges, texts, autotexts = ax.pie(\n",
        "    sizes,\n",
        "    labels=None,\n",
        "    autopct='%1.1f%%',\n",
        "    explode=explode,\n",
        "    startangle=140,\n",
        "    colors=colors,\n",
        "    shadow=True,\n",
        "    textprops=dict(color=\"black\", fontsize=9)\n",
        ")\n",
        "\n",
        "# Inserir os nomes no centro das fatias\n",
        "for i, autotext in enumerate(autotexts):\n",
        "    autotext.set_text(f'{labels[i]}\\n{autotext.get_text()}')\n",
        "\n",
        "# Título e layout\n",
        "plt.title('Evasão de Clientes', fontsize=14)\n",
        "plt.axis('equal')\n",
        "plt.show()\n"
      ]
    },
    {
      "cell_type": "markdown",
      "metadata": {
        "id": "qgazSmjdcTQv"
      },
      "source": [
        "## 🔎 EVASÃO DE CLIENTES por CATEGORIAS:"
      ]
    },
    {
      "cell_type": "code",
      "execution_count": null,
      "metadata": {
        "colab": {
          "base_uri": "https://localhost:8080/",
          "height": 1000
        },
        "id": "WymC_0nq_732",
        "outputId": "8ec0e20e-1ec8-4247-aeb0-056633fe3e27"
      },
      "outputs": [],
      "source": [
        "# Lista de colunas categóricas\n",
        "variaveis_categoricas = [\n",
        "    'Gênero',\n",
        "    'Idoso',\n",
        "    'Possui_Companheiro',\n",
        "    'Possui_Dependentes',\n",
        "    'Meses_de_Contrato',\n",
        "    'Telefone_Ativo',\n",
        "    'Multiplas_Linhas',\n",
        "    'Tipo_Internet',\n",
        "    'Seguranca_Online',\n",
        "    'Backup_Online',\n",
        "    'Protecao_Dispositivo',\n",
        "    'Suporte_Tecnico',\n",
        "    'Streaming_TV',\n",
        "    'Streaming_Filmes',\n",
        "    'Tipo_Contrato',\n",
        "    'Fatura_Digital',\n",
        "    'Forma_Pagamento',\n",
        "    'Valor_Mensal',\n",
        "]\n",
        "\n",
        "# Paleta de cores personalizada\n",
        "paleta_churn = {\n",
        "    'No': '#b2df8a',\n",
        "    'Yes': '#fcbfdc',\n",
        "    'Não informado': '#a1c9f4'\n",
        "}\n",
        "\n",
        "# Criar subplots com 3 colunas\n",
        "fig, axes = plt.subplots(nrows=10, ncols=3, figsize=(30, 70))\n",
        "axes = axes.flatten()  # transforma a matriz 10x2 em uma lista simples de eixos\n",
        "\n",
        "# Gerar os gráficos\n",
        "for i, coluna in enumerate(variaveis_categoricas):\n",
        "    sns.countplot(data=dados, x=coluna, hue='Cancelamento', palette=paleta_churn, ax=axes[i])\n",
        "    axes[i].set_title(f'Evasão por {coluna}', fontsize=12)\n",
        "    axes[i].set_xlabel('')\n",
        "    axes[i].set_ylabel('Número de Clientes')\n",
        "    axes[i].tick_params(axis='x', rotation=15)\n",
        "    axes[i].legend(title='Situação')\n",
        "\n",
        "# Esconde eixos vazios (se sobrar algum)\n",
        "for j in range(i + 1, len(axes)):\n",
        "    fig.delaxes(axes[j])\n",
        "\n",
        "plt.tight_layout()\n",
        "plt.show()"
      ]
    },
    {
      "cell_type": "markdown",
      "metadata": {
        "id": "qVbRZa7yGW7U"
      },
      "source": [
        "## 🔎 EVASÃO DE CLIENTES por VARIÁVEIS NUMÉRICAS:"
      ]
    },
    {
      "cell_type": "code",
      "execution_count": null,
      "metadata": {
        "colab": {
          "base_uri": "https://localhost:8080/",
          "height": 514
        },
        "id": "J7OjZLrTG5KC",
        "outputId": "4a2965b9-1ed2-4eb4-8ecf-7c0df6629125"
      },
      "outputs": [],
      "source": [
        "# Paleta de cores personalizada\n",
        "paleta = {\n",
        "    'Yes': '#fcbfdc',            # rosa claro\n",
        "    'No': '#b2df8a',            # verde claro\n",
        "    'Não informado': '#a1c9f4'   # azul pastel\n",
        "}\n",
        "\n",
        "# Lista de variáveis numéricas\n",
        "variaveis_numericas = ['Valor_Mensal', 'Valor_Total', 'Conta_Diarias', 'Meses_de_Contrato']\n",
        "\n",
        "# Criar subplots - 2 colunas\n",
        "n = len(variaveis_numericas)\n",
        "ncols = 2\n",
        "nrows = (n + 1) // ncols  # garante linhas suficientes\n",
        "fig, axes = plt.subplots(nrows=nrows, ncols=ncols, figsize=(14, 4 * nrows))\n",
        "axes = axes.flatten()\n",
        "\n",
        "# Plotar os gráficos\n",
        "for i, var in enumerate(variaveis_numericas):\n",
        "    sns.histplot(\n",
        "        data=dados,\n",
        "        x=var,\n",
        "        hue='Cancelamento',\n",
        "        multiple='stack',\n",
        "        palette=paleta,\n",
        "        bins=30,\n",
        "        edgecolor='lightgray',\n",
        "        linewidth=0.3,\n",
        "        ax=axes[i]\n",
        "    )\n",
        "    axes[i].set_title(f'Histograma de {var.replace(\"_\", \" \")} por Cancelamento', fontsize=11)\n",
        "    axes[i].set_xlabel(var.replace('_', ' '))\n",
        "    axes[i].set_ylabel('Frequência')\n",
        "    axes[i].grid(axis='y', linestyle='--', alpha=0.3)\n",
        "\n",
        "# Esconde gráficos vazios, se sobrar espaço\n",
        "for j in range(i + 1, len(axes)):\n",
        "    fig.delaxes(axes[j])\n",
        "\n",
        "# Ajustar o layout para espaçamento entre os gráficos\n",
        "plt.tight_layout(h_pad=3.0)  # h_pad ajusta o espaçamento vertical entre linhas\n",
        "plt.show()"
      ]
    },
    {
      "cell_type": "markdown",
      "metadata": {
        "id": "4YlK7CwK7kNA"
      },
      "source": [
        "#**🚀 Extra**: Análise de Correlação entre Variáveis"
      ]
    },
    {
      "cell_type": "markdown",
      "metadata": {
        "id": "me9nsQ7i8q10"
      },
      "source": [
        "Como um passo adicional, explorei a correlação entre diferentes variáveis do ***dataset***. Isso pode ajudar a identificar quais fatores têm maior relação com a evasão de clientes.\n"
      ]
    },
    {
      "cell_type": "code",
      "execution_count": null,
      "metadata": {
        "colab": {
          "base_uri": "https://localhost:8080/",
          "height": 663
        },
        "id": "uxq1ipjvK7fe",
        "outputId": "c4cf5879-d933-48ef-b39b-85b0bef73e0f"
      },
      "outputs": [],
      "source": [
        "# Criar cópia dos dados para análise\n",
        "dados_corr = dados.copy()\n",
        "\n",
        "# Transformar a variável 'Cancelamento' para numérica (Sim=1, Não=0)\n",
        "dados_corr['Cancelamento_Num'] = dados_corr['Cancelamento'].replace({'Yes': 1, 'No': 0, 'Não informado':0})\n",
        "\n",
        "# Selecionar apenas variáveis numéricas\n",
        "variaveis_numericas = ['Conta_Diarias', 'Valor_Mensal', 'Valor_Total', 'Meses_de_Contrato']\n",
        "variaveis_numericas.append('Cancelamento_Num')\n",
        "\n",
        "# Calcular matriz de correlação\n",
        "matriz_corr = dados_corr[variaveis_numericas].corr()\n",
        "\n",
        "plt.figure(figsize=(8, 6))\n",
        "sns.heatmap(matriz_corr, annot=True, cmap='coolwarm', fmt='.2f', square=True, cbar=True)\n",
        "plt.title('Matriz de Correlação entre Variáveis Numéricas\\n', fontsize=14)\n",
        "plt.xticks(rotation=45)\n",
        "plt.yticks(rotation=0)\n",
        "plt.tight_layout()\n",
        "plt.show()\n",
        "\n"
      ]
    },
    {
      "cell_type": "code",
      "execution_count": null,
      "metadata": {
        "colab": {
          "base_uri": "https://localhost:8080/",
          "height": 616
        },
        "id": "6zSSXM_DK7WL",
        "outputId": "f74f3d2c-df15-4f37-8e73-2cf5afda0b76"
      },
      "outputs": [],
      "source": [
        "plt.figure(figsize=(8, 5))\n",
        "sns.boxplot(x='Cancelamento', y='Conta_Diarias', data=dados, palette={'Yes': '#fcbfdc', 'No': '#b2df8a', 'Não informado': '#a1c9f4'})\n",
        "plt.title('Distribuição da Conta Diária por Cancelamento')\n",
        "plt.xlabel('Cancelamento')\n",
        "plt.ylabel('Conta Diária')\n",
        "plt.grid(axis='y', linestyle='--', alpha=0.3)\n",
        "plt.tight_layout()\n",
        "plt.show()\n"
      ]
    },
    {
      "cell_type": "code",
      "execution_count": null,
      "metadata": {},
      "outputs": [],
      "source": [
        "dados.to_csv(\"dados_tratados.csv\", index=False)"
      ]
    },
    {
      "cell_type": "markdown",
      "metadata": {
        "id": "EFY9rAXCdaZe"
      },
      "source": [
        "#📊 Relatório Final – Análise de Evasão de Clientes da Telecom X"
      ]
    },
    {
      "cell_type": "markdown",
      "metadata": {
        "id": "0t2hQtMJdiQV"
      },
      "source": [
        "## 🧾 Introdução\n",
        "\n",
        "A Telecom X enfrenta um **alto índice de cancelamentos de clientes**. Para melhorar a retenção, é necessário compreender os fatores que influenciam esse comportamento de evasão, conhecido como **churn**.\n",
        "\n",
        "Este projeto teve como objetivo analisar os dados de clientes da empresa para **identificar padrões e possíveis causas de cancelamento**, com foco em variáveis demográficas, contratuais e de consumo."
      ]
    },
    {
      "cell_type": "markdown",
      "metadata": {
        "id": "fIoOBJO2diMb"
      },
      "source": [
        "## 🧹 Limpeza e Tratamento de Dados\n",
        "\n",
        "Foram seguidos os seguintes passos para preparar os dados:\n",
        "\n",
        "* 📥 **Importação de dados JSON**.\n",
        "* 🔍 **Normalização de colunas aninhadas**.\n",
        "* 🌎 **Tradução** para melhor compreensão dos analistas brasileiros.\n",
        "* ❌ **Remoção de registros com valores ausentes**.\n",
        "* 🌐 **Padronização de nomes de colunas**.\n",
        "* 🧩 **Criação da variável derivada `Conta_Diarias`**, com base no gasto mensal."
      ]
    },
    {
      "cell_type": "markdown",
      "metadata": {
        "id": "Z6FgQCJFdiIR"
      },
      "source": [
        "## 🔎 Análise Exploratória de Dados (EDA)\n",
        "\n",
        "A seguir, apresentamos os principais resultados exploratórios, divididos em categorias:\n"
      ]
    },
    {
      "cell_type": "markdown",
      "metadata": {
        "id": "H5UGMqCEdiEH"
      },
      "source": [
        "### 🎯 Distribuição Geral do Cancelamento\n",
        "\n",
        "* **Cerca de 25,8% dos clientes cancelaram** seus serviços.\n",
        "* Gráfico de **pizza** evidencia o problema de retenção."
      ]
    },
    {
      "cell_type": "markdown",
      "metadata": {
        "id": "8jqIiIySdh-Z"
      },
      "source": [
        "### 📋 Cancelamento por Variáveis Categóricas\n",
        "\n",
        "Foi analisada a evasão por variáveis e encontrado:\n",
        "\n",
        "* Clientes com **contrato mensal** têm **alta taxa de cancelamento**.\n",
        "* Formas de pagamento como **\"Electronic Check\"** e  o tipo de internet **'Fiber Optic'** estão mais associadas à evasão.\n",
        "* Clientes que **não possuem serviços extras** tendem a sair com mais frequência."
      ]
    },
    {
      "cell_type": "markdown",
      "metadata": {
        "id": "2zXKzJ78dh2E"
      },
      "source": [
        "### 📈 Cancelamento por Variáveis Numéricas\n",
        "\n",
        "Foram analisadas variáveis e observado:\n",
        "\n",
        "* **Clientes recém-chegados** apresentam cancelamento elevado.\n",
        "* **Cancelamento mais comum** esta na faixa de valor entre $70,00 e $100,00.\n"
      ]
    },
    {
      "cell_type": "markdown",
      "metadata": {
        "id": "61Lpd2m5d16e"
      },
      "source": [
        "## 💡 Conclusões e Insights\n",
        "\n",
        "* A análise do cancelamento revela padrões importantes sobre os clientes que cancelam seus serviços. Observamos que a evasão é predominantemente registrada entre usuários que possuem pouco tempo de permanência na empresa, indicando uma tendência de desistência precoce.\n",
        "\n",
        "* Além disso, a cobrança via electronic check também se destaca como um fator associado ao cancelamento, possivelmente devido à praticidade limitada desse método de pagamento.\n",
        "\n",
        "* Clientes que pagam mais por mês e não utilizam serviços adicionais estão mais propensos a cancelar, reforçando a importância de agregar valor à experiência do cliente."
      ]
    },
    {
      "cell_type": "markdown",
      "metadata": {
        "id": "KceN4y27ZSRT"
      },
      "source": [
        "## ✅ Recomendações\n",
        "\n",
        "Com base nesses insights, recomenda-se que a Telecom X adote estratégias para minimizar a evasão e fortalecer a retenção de clientes:\n",
        "1. **Incentivar contratos de longo prazo:** Criar programas de fidelidade, oferecer descontos progressivos ou benefícios exclusivos para clientes que optam por assinaturas anuais.\n",
        "2. **Ampliar o valor dos serviços adicionais:** Estimular a adesão a pacotes como suporte técnico premium, segurança online ou benefícios exclusivos para quem utiliza mais serviços da empresa.\n",
        "3. **Revisar métodos de pagamento:** Reduzir a dependência do electronic check, promovendo opções mais convenientes como débito automático, cartão de crédito ou PIX, para facilitar transações e reduzir cancelamentos.\n",
        "4. **Aprimorar o suporte nos primeiros meses:** Implementar uma jornada de boas-vindas personalizada, com contato proativo, ofertas especiais e suporte dedicado para os novos clientes.\n"
      ]
    }
  ],
  "metadata": {
    "colab": {
      "collapsed_sections": [
        "aHJqIZuF6XlY",
        "4foVEKhrlqcH"
      ],
      "provenance": []
    },
    "kernelspec": {
      "display_name": "Python 3",
      "name": "python3"
    },
    "language_info": {
      "name": "python",
      "version": "3.11.9"
    }
  },
  "nbformat": 4,
  "nbformat_minor": 0
}
